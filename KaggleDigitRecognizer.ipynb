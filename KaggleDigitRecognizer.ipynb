{
 "cells": [
  {
   "cell_type": "code",
   "execution_count": 1,
   "id": "ca8776ac-695f-48c3-9af4-da0619c77699",
   "metadata": {},
   "outputs": [],
   "source": [
    "import tensorflow as tf\n",
    "import pandas as pd"
   ]
  },
  {
   "cell_type": "code",
   "execution_count": 2,
   "id": "3797b373-038b-4a2a-b5c3-6678673dacf9",
   "metadata": {},
   "outputs": [],
   "source": [
    "import numpy as np"
   ]
  },
  {
   "cell_type": "code",
   "execution_count": 3,
   "id": "a60b0c31-3b20-477b-b58a-e2f1adff391f",
   "metadata": {},
   "outputs": [],
   "source": [
    "from tensorflow import keras\n",
    "from tensorflow.keras import layers"
   ]
  },
  {
   "cell_type": "code",
   "execution_count": 4,
   "id": "071736a8-de0f-4741-a8b9-a040843ef19c",
   "metadata": {},
   "outputs": [],
   "source": [
    "cols = list(pd.read_csv(\"C:\\\\Users\\\\Prasanna\\\\kaggle\\\\digit-recognizer\\\\train.csv\", nrows =1))\n",
    "x_train = pd.read_csv(\"C:\\\\Users\\\\Prasanna\\\\kaggle\\\\digit-recognizer\\\\train.csv\", usecols =[i for i in cols if i != 'label'])\n",
    "y_train = pd.read_csv(\"C:\\\\Users\\\\Prasanna\\\\kaggle\\\\digit-recognizer\\\\train.csv\")['label']\n",
    "x_test = pd.read_csv(\"C:\\\\Users\\\\Prasanna\\\\kaggle\\\\digit-recognizer\\\\test.csv\", index_col=0)\n"
   ]
  },
  {
   "cell_type": "code",
   "execution_count": 5,
   "id": "830ea6b2-0141-499c-ab6b-dfcaf3b42db2",
   "metadata": {},
   "outputs": [],
   "source": [
    "model = tf.keras.models.Sequential([\n",
    "  tf.keras.layers.Dense(512, activation='relu', input_shape=(784,)),\n",
    "  tf.keras.layers.Dense(128),\n",
    "  tf.keras.layers.Dense(128),\n",
    "  tf.keras.layers.Dropout(0.2),\n",
    "  tf.keras.layers.Dense(10)\n",
    "])"
   ]
  },
  {
   "cell_type": "code",
   "execution_count": 6,
   "id": "c5c62aeb-c406-4b4a-ad71-b8bdba125bde",
   "metadata": {},
   "outputs": [
    {
     "data": {
      "text/plain": [
       "array([[  29.363255,  -12.648758, -187.28905 , ...,  -88.84025 ,\n",
       "          -5.754594, -119.17469 ],\n",
       "       [ 107.86391 , -146.87169 , -319.90607 , ...,  -11.626019,\n",
       "          59.622154, -212.6382  ],\n",
       "       [  63.619923,   -7.780326, -116.62421 , ...,   90.384056,\n",
       "          77.75776 ,  -83.01024 ],\n",
       "       ...,\n",
       "       [  89.807205,   57.2908  , -149.62923 , ...,  143.54506 ,\n",
       "          12.121317,  -26.912508],\n",
       "       [ 141.53745 ,  101.16283 , -224.09142 , ...,   95.680954,\n",
       "         123.521965,   19.239328],\n",
       "       [ -42.98989 ,   10.170087,  -45.129185, ...,   34.13719 ,\n",
       "         -51.20533 ,   35.270756]], dtype=float32)"
      ]
     },
     "execution_count": 6,
     "metadata": {},
     "output_type": "execute_result"
    }
   ],
   "source": [
    "predictions = model(np.array(x_train)).numpy()\n",
    "predictions"
   ]
  },
  {
   "cell_type": "code",
   "execution_count": 7,
   "id": "1e707f60-0d4a-4f4d-a196-a03db9c4bb89",
   "metadata": {},
   "outputs": [
    {
     "data": {
      "text/plain": [
       "array([[2.4765464e-22, 0.0000000e+00, 0.0000000e+00, ..., 0.0000000e+00,\n",
       "        1.3879029e-37, 0.0000000e+00],\n",
       "       [0.0000000e+00, 0.0000000e+00, 0.0000000e+00, ..., 0.0000000e+00,\n",
       "        0.0000000e+00, 0.0000000e+00],\n",
       "       [2.3794857e-12, 0.0000000e+00, 0.0000000e+00, ..., 9.9999666e-01,\n",
       "        3.2844864e-06, 0.0000000e+00],\n",
       "       ...,\n",
       "       [0.0000000e+00, 0.0000000e+00, 0.0000000e+00, ..., 2.4357250e-28,\n",
       "        0.0000000e+00, 0.0000000e+00],\n",
       "       [1.0000000e+00, 2.9209623e-18, 0.0000000e+00, ..., 1.2155672e-20,\n",
       "        1.4996035e-08, 0.0000000e+00],\n",
       "       [0.0000000e+00, 0.0000000e+00, 0.0000000e+00, ..., 0.0000000e+00,\n",
       "        0.0000000e+00, 0.0000000e+00]], dtype=float32)"
      ]
     },
     "execution_count": 7,
     "metadata": {},
     "output_type": "execute_result"
    }
   ],
   "source": [
    "tf.nn.softmax(predictions).numpy()"
   ]
  },
  {
   "cell_type": "code",
   "execution_count": 8,
   "id": "a12c6631-7fa6-4899-8358-d1d1d81ea0db",
   "metadata": {},
   "outputs": [],
   "source": [
    "loss_fn = tf.keras.losses.SparseCategoricalCrossentropy(from_logits=True)"
   ]
  },
  {
   "cell_type": "code",
   "execution_count": 9,
   "id": "e4b14607-0180-4a54-b41b-0f093ff516c1",
   "metadata": {},
   "outputs": [
    {
     "data": {
      "text/plain": [
       "148.59654"
      ]
     },
     "execution_count": 9,
     "metadata": {},
     "output_type": "execute_result"
    }
   ],
   "source": [
    "loss_fn(y_train, predictions).numpy()"
   ]
  },
  {
   "cell_type": "code",
   "execution_count": 10,
   "id": "fc62847c-5d5a-4fd7-af4b-67ef20b2620a",
   "metadata": {},
   "outputs": [],
   "source": [
    "model.compile(optimizer='adam',\n",
    "              loss=loss_fn,\n",
    "              metrics=['accuracy'])"
   ]
  },
  {
   "cell_type": "code",
   "execution_count": 11,
   "id": "dea84f9f-711d-4ba1-8f05-1340e45767c9",
   "metadata": {},
   "outputs": [
    {
     "name": "stdout",
     "output_type": "stream",
     "text": [
      "Epoch 1/10\n",
      "1313/1313 [==============================] - 5s 3ms/step - loss: 4.0105 - accuracy: 0.8616\n",
      "Epoch 2/10\n",
      "1313/1313 [==============================] - 5s 3ms/step - loss: 0.5956 - accuracy: 0.8969\n",
      "Epoch 3/10\n",
      "1313/1313 [==============================] - 5s 3ms/step - loss: 0.4807 - accuracy: 0.9075\n",
      "Epoch 4/10\n",
      "1313/1313 [==============================] - 4s 3ms/step - loss: 0.3895 - accuracy: 0.9207\n",
      "Epoch 5/10\n",
      "1313/1313 [==============================] - 4s 3ms/step - loss: 0.3209 - accuracy: 0.9327\n",
      "Epoch 6/10\n",
      "1313/1313 [==============================] - 4s 3ms/step - loss: 0.2887 - accuracy: 0.9367\n",
      "Epoch 7/10\n",
      "1313/1313 [==============================] - 5s 4ms/step - loss: 0.2137 - accuracy: 0.9497\n",
      "Epoch 8/10\n",
      "1313/1313 [==============================] - 5s 3ms/step - loss: 0.1989 - accuracy: 0.9530\n",
      "Epoch 9/10\n",
      "1313/1313 [==============================] - 4s 3ms/step - loss: 0.1860 - accuracy: 0.9562\n",
      "Epoch 10/10\n",
      "1313/1313 [==============================] - 5s 4ms/step - loss: 0.1938 - accuracy: 0.9560\n"
     ]
    },
    {
     "data": {
      "text/plain": [
       "<keras.callbacks.History at 0x1850772de10>"
      ]
     },
     "execution_count": 11,
     "metadata": {},
     "output_type": "execute_result"
    }
   ],
   "source": [
    "model.fit(np.array(x_train), np.array(y_train), epochs = 10)"
   ]
  },
  {
   "cell_type": "code",
   "execution_count": 12,
   "id": "e2096384-2286-4c51-951e-354f8e8696c4",
   "metadata": {},
   "outputs": [
    {
     "name": "stdout",
     "output_type": "stream",
     "text": [
      "875/875 [==============================] - 2s 2ms/step\n"
     ]
    }
   ],
   "source": [
    "ans = model.predict(x_test,  verbose='auto')"
   ]
  },
  {
   "cell_type": "code",
   "execution_count": 13,
   "id": "78269186-d4a3-4f3d-8363-3d4749c50466",
   "metadata": {},
   "outputs": [],
   "source": [
    "finals = np.zeros(28000)\n",
    "for i in range(28000):\n",
    "    finals[i] = np.argmax(ans[i])"
   ]
  },
  {
   "cell_type": "code",
   "execution_count": 14,
   "id": "806ef4ce-9088-4b17-bd6b-d60dc403f672",
   "metadata": {},
   "outputs": [
    {
     "data": {
      "text/plain": [
       "array([2., 0., 9., ..., 3., 9., 2.])"
      ]
     },
     "execution_count": 14,
     "metadata": {},
     "output_type": "execute_result"
    }
   ],
   "source": [
    "finals"
   ]
  },
  {
   "cell_type": "code",
   "execution_count": 16,
   "id": "402a2340-1344-48b6-b380-b7f286f9878d",
   "metadata": {},
   "outputs": [],
   "source": [
    "fileName = \"Submission.csv\"\n",
    "df=pd.DataFrame(finals)\n",
    "df.to_csv(fileName)"
   ]
  },
  {
   "cell_type": "code",
   "execution_count": null,
   "id": "03ef374b-5e65-456e-9f41-ee4ac29cfea8",
   "metadata": {},
   "outputs": [],
   "source": []
  }
 ],
 "metadata": {
  "kernelspec": {
   "display_name": "Python 3 (ipykernel)",
   "language": "python",
   "name": "python3"
  },
  "language_info": {
   "codemirror_mode": {
    "name": "ipython",
    "version": 3
   },
   "file_extension": ".py",
   "mimetype": "text/x-python",
   "name": "python",
   "nbconvert_exporter": "python",
   "pygments_lexer": "ipython3",
   "version": "3.10.2"
  }
 },
 "nbformat": 4,
 "nbformat_minor": 5
}
